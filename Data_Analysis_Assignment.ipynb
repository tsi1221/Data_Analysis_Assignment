# ===========================
# Data Analysis Assignment
# ===========================

# Import Libraries
import pandas as pd
import matplotlib.pyplot as plt
import seaborn as sns
from sklearn.datasets import load_iris

# Set Seaborn style
sns.set_style('whitegrid')

# ---------------------------
# Load Dataset
# ---------------------------
iris = load_iris()
df = pd.DataFrame(data=iris.data, columns=iris.feature_names)
df['species'] = pd.Categorical.from_codes(iris.target, iris.target_names)

# Display first 5 rows
print("First 5 rows of the dataset:\n")
display(df.head())

# ---------------------------
# Explore Dataset
# ---------------------------
print("\nDataset Info:")
df.info()

print("\nMissing values per column:")
print(df.isnull().sum())

# ---------------------------
# Handle Missing Values
# ---------------------------
# Fill missing values if any (Iris dataset has none)
df.fillna(df.mean(), inplace=True)

# ---------------------------
# Basic Data Analysis
# ---------------------------
print("\nDescriptive Statistics:")
display(df.describe())

# Average petal length per species
avg_petal_length = df.groupby('species')['petal length (cm)'].mean()
print("\nAverage Petal Length per Species:\n", avg_petal_length)

# Correlation between numerical columns
print("\nCorrelation Matrix:")
display(df.corr())

# ---------------------------
# Visualization 1: Bar Chart
# ---------------------------
plt.figure(figsize=(8,5))
sns.barplot(x='species', y='petal length (cm)', data=df)
plt.title("Average Petal Length per Species")
plt.xlabel("Species")
plt.ylabel("Petal Length (cm)")
plt.show()

# ---------------------------
# Visualization 2: Histogram
# ---------------------------
plt.figure(figsize=(8,5))
sns.histplot(df['sepal length (cm)'], bins=10, kde=True)
plt.title("Distribution of Sepal Length")
plt.xlabel("Sepal Length (cm)")
plt.ylabel("Count")
plt.show()

# ---------------------------
# Visualization 3: Scatter Plot
# ---------------------------
plt.figure(figsize=(8,5))
sns.scatterplot(x='sepal length (cm)', y='petal length (cm)', hue='species', data=df)
plt.title("Sepal Length vs Petal Length")
plt.xlabel("Sepal Length (cm)")
plt.ylabel("Petal Length (cm)")
plt.legend(title="Species")
plt.show()

# ---------------------------
# Visualization 4: Line Chart (Average Sepal Length per Species)
# ---------------------------
avg_sepal_length = df.groupby('species')['sepal length (cm)'].mean()
avg_sepal_length.plot(kind='line', marker='o', figsize=(8,5))
plt.title("Average Sepal Length per Species")
plt.xlabel("Species")
plt.ylabel("Sepal Length (cm)")
plt.show()

# ---------------------------
# Observations
# ---------------------------
print("\nObservations and Insights:")
print("""
- Setosa species has the smallest average petal length.
- Virginica species has the largest average petal length.
- Sepal length and petal length show a positive correlation across species.
- Most sepal lengths are between 5 and 6 cm.
""")
